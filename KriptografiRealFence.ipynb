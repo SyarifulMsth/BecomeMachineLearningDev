{
  "cells": [
    {
      "cell_type": "markdown",
      "metadata": {
        "id": "view-in-github",
        "colab_type": "text"
      },
      "source": [
        "<a href=\"https://colab.research.google.com/github/SyarifulMsth/BecomeMachineLearningDev/blob/main/KriptografiRealFence.ipynb\" target=\"_parent\"><img src=\"https://colab.research.google.com/assets/colab-badge.svg\" alt=\"Open In Colab\"/></a>"
      ]
    },
    {
      "cell_type": "code",
      "source": [
        "# Tugas Keamanan Sistem Informasi \n",
        "# Membuat Aplikasi Enkripsi dan Dekripsi menggunakan Algoritma Kriptografi Transposisi Rail Fence menggunakan Python\n",
        "def encryptRailFence(text, key):\n",
        " \n",
        "    rail = [['\\n' for i in range(len(text))]\n",
        "                  for j in range(key)]\n",
        "     \n",
        "    dir_down = False\n",
        "    row, col = 0, 0\n",
        "     \n",
        "    for i in range(len(text)):\n",
        "         \n",
        "        if (row == 0) or (row == key - 1):\n",
        "            dir_down = not dir_down\n",
        "        rail[row][col] = text[i]\n",
        "        col += 1\n",
        "        if dir_down:\n",
        "            row += 1\n",
        "        else:\n",
        "            row -= 1\n",
        "    result = []\n",
        "    for i in range(key):\n",
        "        for j in range(len(text)):\n",
        "            if rail[i][j] != '\\n':\n",
        "                result.append(rail[i][j])\n",
        "    return(\"\" . join(result))\n",
        "     \n",
        "def decryptRailFence(cipher, key):\n",
        "    rail = [['\\n' for i in range(len(cipher))]\n",
        "                  for j in range(key)]\n",
        "    dir_down = None\n",
        "    row, col = 0, 0\n",
        "    for i in range(len(cipher)):\n",
        "        if row == 0:\n",
        "            dir_down = True\n",
        "        if row == key - 1:\n",
        "            dir_down = False\n",
        "         \n",
        "        rail[row][col] = '*'\n",
        "        col += 1\n",
        "         \n",
        "        if dir_down:\n",
        "            row += 1\n",
        "        else:\n",
        "            row -= 1\n",
        "             \n",
        "    index = 0\n",
        "    for i in range(key):\n",
        "        for j in range(len(cipher)):\n",
        "            if ((rail[i][j] == '*') and\n",
        "               (index < len(cipher))):\n",
        "                rail[i][j] = cipher[index]\n",
        "                index += 1\n",
        "         \n",
        "    result = []\n",
        "    row, col = 0, 0\n",
        "    for i in range(len(cipher)):\n",
        "         \n",
        "        if row == 0:\n",
        "            dir_down = True\n",
        "        if row == key-1:\n",
        "            dir_down = False\n",
        "             \n",
        "        if (rail[row][col] != '*'):\n",
        "            result.append(rail[row][col])\n",
        "            col += 1\n",
        "             \n",
        "        if dir_down:\n",
        "            row += 1\n",
        "        else:\n",
        "            row -= 1\n",
        "    return(\"\".join(result))\n",
        " \n",
        "# Driver code\n",
        "if __name__ == \"__main__\":\n",
        "    print(\"===Proses Enkripsi===\\n\")\n",
        "    print(encryptRailFence(\"syariful\", 2))\n",
        "    print(encryptRailFence(\"kuliah\", 3))\n",
        "    print(encryptRailFence(\"di informatika upgris\", 3))\n",
        "    print(\"\\n\")     \n",
        "    print(\"===Proses Dekripsi===\\n\")\n",
        "    print(decryptRailFence(\"saiuyrfl\", 2))\n",
        "    print(decryptRailFence(\"kauihl\", 3))\n",
        "    print(decryptRailFence(\"dnmkpsiifraiaugi ot r\", 3))"
      ],
      "metadata": {
        "id": "N_Esi2Me2jn8",
        "outputId": "4dc397ae-543a-44ae-e872-4c18ccfcb5af",
        "colab": {
          "base_uri": "https://localhost:8080/"
        }
      },
      "execution_count": 8,
      "outputs": [
        {
          "output_type": "stream",
          "name": "stdout",
          "text": [
            "===Proses Enkripsi===\n",
            "\n",
            "saiuyrfl\n",
            "kauihl\n",
            "dnmkpsiifraiaugi ot r\n",
            "\n",
            "\n",
            "===Proses Dekripsi===\n",
            "\n",
            "syariful\n",
            "kuliah\n",
            "di informatika upgris\n"
          ]
        }
      ]
    }
  ],
  "metadata": {
    "colab": {
      "collapsed_sections": [],
      "name": "advanced_outputs.ipynb",
      "provenance": [],
      "toc_visible": true,
      "include_colab_link": true
    },
    "kernelspec": {
      "display_name": "Python 3",
      "name": "python3"
    }
  },
  "nbformat": 4,
  "nbformat_minor": 0
}