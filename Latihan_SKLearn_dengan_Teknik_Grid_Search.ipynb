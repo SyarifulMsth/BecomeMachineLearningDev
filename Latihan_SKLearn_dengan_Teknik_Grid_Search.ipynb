{
  "nbformat": 4,
  "nbformat_minor": 0,
  "metadata": {
    "colab": {
      "provenance": [],
      "collapsed_sections": [],
      "authorship_tag": "ABX9TyPkWAhbXfETaRRZ+WByS4U7",
      "include_colab_link": true
    },
    "kernelspec": {
      "name": "python3",
      "display_name": "Python 3"
    },
    "language_info": {
      "name": "python"
    }
  },
  "cells": [
    {
      "cell_type": "markdown",
      "metadata": {
        "id": "view-in-github",
        "colab_type": "text"
      },
      "source": [
        "<a href=\"https://colab.research.google.com/github/SyarifulMsth/BecomeMachineLearningDev/blob/main/Latihan_SKLearn_dengan_Teknik_Grid_Search.ipynb\" target=\"_parent\"><img src=\"https://colab.research.google.com/assets/colab-badge.svg\" alt=\"Open In Colab\"/></a>"
      ]
    },
    {
      "cell_type": "code",
      "execution_count": 4,
      "metadata": {
        "id": "4O4fogBch1gh"
      },
      "outputs": [],
      "source": [
        "import pandas as pd\n",
        " \n",
        "# membaca dataset dan mengubahnya menjadi dataframe\n",
        "data = pd.read_csv('Salary_Data.csv')\n"
      ]
    },
    {
      "cell_type": "code",
      "source": [
        "import numpy as np\n",
        " \n",
        "# memisahkan atribut dan label\n",
        "X = data['YearsExperience']\n",
        "y = data['Salary']\n",
        " \n",
        "# mengubah bentuk atribut\n",
        "X = X[:,np.newaxis]"
      ],
      "metadata": {
        "colab": {
          "base_uri": "https://localhost:8080/"
        },
        "id": "MHPtQhhYlx-l",
        "outputId": "03addf0d-940c-4d7d-f22e-2f5bc99f0502"
      },
      "execution_count": 3,
      "outputs": [
        {
          "output_type": "stream",
          "name": "stderr",
          "text": [
            "/usr/local/lib/python3.7/dist-packages/ipykernel_launcher.py:8: FutureWarning: Support for multi-dimensional indexing (e.g. `obj[:, None]`) is deprecated and will be removed in a future version.  Convert to a numpy array before indexing instead.\n",
            "  \n"
          ]
        }
      ]
    },
    {
      "cell_type": "code",
      "source": [
        "from sklearn.model_selection import GridSearchCV\n",
        "from sklearn.svm import SVR\n",
        " \n",
        "# membangun model dengan parameter C, gamma, dan kernel\n",
        "model = SVR()\n",
        "parameters = {\n",
        "    'kernel': ['rbf'],\n",
        "    'C':     [1000, 10000, 100000],\n",
        "    'gamma': [0.5, 0.05,0.005]\n",
        "}\n",
        "grid_search = GridSearchCV(model, parameters)\n",
        " \n",
        "# melatih model dengan fungsi fit\n",
        "grid_search.fit(X,y)\n"
      ],
      "metadata": {
        "colab": {
          "base_uri": "https://localhost:8080/"
        },
        "id": "OzL1U3Aql_91",
        "outputId": "b7346f47-6463-487b-9e8c-8baf571898b8"
      },
      "execution_count": 5,
      "outputs": [
        {
          "output_type": "execute_result",
          "data": {
            "text/plain": [
              "GridSearchCV(estimator=SVR(),\n",
              "             param_grid={'C': [1000, 10000, 100000],\n",
              "                         'gamma': [0.5, 0.05, 0.005], 'kernel': ['rbf']})"
            ]
          },
          "metadata": {},
          "execution_count": 5
        }
      ]
    },
    {
      "cell_type": "code",
      "source": [
        "# menampilkan parameter terbaik dari objek grid_search\n",
        "print(grid_search.best_params_)\n"
      ],
      "metadata": {
        "colab": {
          "base_uri": "https://localhost:8080/"
        },
        "id": "Diq3lpccmCit",
        "outputId": "ad829361-a0a3-4ee3-e121-9d49d804a1b5"
      },
      "execution_count": 6,
      "outputs": [
        {
          "output_type": "stream",
          "name": "stdout",
          "text": [
            "{'C': 100000, 'gamma': 0.005, 'kernel': 'rbf'}\n"
          ]
        }
      ]
    },
    {
      "cell_type": "code",
      "source": [
        "# membuat model SVM baru dengan parameter terbaik hasil grid search\n",
        "model_baru  = SVR(C=100000, gamma=0.005, kernel='rbf')\n",
        "model_baru.fit(X,y)\n"
      ],
      "metadata": {
        "colab": {
          "base_uri": "https://localhost:8080/"
        },
        "id": "oqR4ykUVmIiG",
        "outputId": "7929f2d8-2cec-49fb-8068-5c1cd70ce04b"
      },
      "execution_count": 7,
      "outputs": [
        {
          "output_type": "execute_result",
          "data": {
            "text/plain": [
              "SVR(C=100000, gamma=0.005)"
            ]
          },
          "metadata": {},
          "execution_count": 7
        }
      ]
    },
    {
      "cell_type": "code",
      "source": [
        "import matplotlib.pyplot as plt\n",
        "plt.scatter(X, y)\n",
        "plt.plot(X, model_baru.predict(X))\n"
      ],
      "metadata": {
        "id": "0gYQCbfxmQSK"
      },
      "execution_count": 7,
      "outputs": []
    }
  ]
}