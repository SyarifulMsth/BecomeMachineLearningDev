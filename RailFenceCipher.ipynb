{
  "nbformat": 4,
  "nbformat_minor": 0,
  "metadata": {
    "colab": {
      "provenance": [],
      "toc_visible": true,
      "authorship_tag": "ABX9TyNYyYbUDde6fHDiD5wLHUO4",
      "include_colab_link": true
    },
    "kernelspec": {
      "name": "python3",
      "display_name": "Python 3"
    },
    "language_info": {
      "name": "python"
    }
  },
  "cells": [
    {
      "cell_type": "markdown",
      "metadata": {
        "id": "view-in-github",
        "colab_type": "text"
      },
      "source": [
        "<a href=\"https://colab.research.google.com/github/SyarifulMsth/BecomeMachineLearningDev/blob/main/RailFenceCipher.ipynb\" target=\"_parent\"><img src=\"https://colab.research.google.com/assets/colab-badge.svg\" alt=\"Open In Colab\"/></a>"
      ]
    },
    {
      "cell_type": "code",
      "execution_count": 1,
      "metadata": {
        "colab": {
          "base_uri": "https://localhost:8080/"
        },
        "id": "emy5tgEf832v",
        "outputId": "9fbc271c-0f89-4699-eef7-179f3d630765"
      },
      "outputs": [
        {
          "output_type": "stream",
          "name": "stdout",
          "text": [
            "===Encryption===\n",
            "\n",
            "saiu shyrflmt\n",
            "pia atcptsirien\n",
            "htrt2akoefs22cbe0\n",
            "\n",
            "\n",
            "===Decryption===\n",
            "\n",
            "syariful msth\n",
            "participates in\n",
            "hacktoberfest2022\n"
          ]
        }
      ],
      "source": [
        "# RailFenceCipher \n",
        "# Hacktoberfest2022\n",
        "\n",
        "def encryptRailFence(text, key):\n",
        " \n",
        "    rail = [['\\n' for i in range(len(text))]\n",
        "                  for j in range(key)]\n",
        "     \n",
        "    dir_down = False\n",
        "    row, col = 0, 0\n",
        "     \n",
        "    for i in range(len(text)):\n",
        "         \n",
        "        if (row == 0) or (row == key - 1):\n",
        "            dir_down = not dir_down\n",
        "        rail[row][col] = text[i]\n",
        "        col += 1\n",
        "        if dir_down:\n",
        "            row += 1\n",
        "        else:\n",
        "            row -= 1\n",
        "    result = []\n",
        "    for i in range(key):\n",
        "        for j in range(len(text)):\n",
        "            if rail[i][j] != '\\n':\n",
        "                result.append(rail[i][j])\n",
        "    return(\"\" . join(result))\n",
        "     \n",
        "def decryptRailFence(cipher, key):\n",
        "    rail = [['\\n' for i in range(len(cipher))]\n",
        "                  for j in range(key)]\n",
        "    dir_down = None\n",
        "    row, col = 0, 0\n",
        "    for i in range(len(cipher)):\n",
        "        if row == 0:\n",
        "            dir_down = True\n",
        "        if row == key - 1:\n",
        "            dir_down = False\n",
        "         \n",
        "        rail[row][col] = '*'\n",
        "        col += 1\n",
        "         \n",
        "        if dir_down:\n",
        "            row += 1\n",
        "        else:\n",
        "            row -= 1\n",
        "             \n",
        "    index = 0\n",
        "    for i in range(key):\n",
        "        for j in range(len(cipher)):\n",
        "            if ((rail[i][j] == '*') and\n",
        "               (index < len(cipher))):\n",
        "                rail[i][j] = cipher[index]\n",
        "                index += 1\n",
        "         \n",
        "    result = []\n",
        "    row, col = 0, 0\n",
        "    for i in range(len(cipher)):\n",
        "         \n",
        "        if row == 0:\n",
        "            dir_down = True\n",
        "        if row == key-1:\n",
        "            dir_down = False\n",
        "             \n",
        "        if (rail[row][col] != '*'):\n",
        "            result.append(rail[row][col])\n",
        "            col += 1\n",
        "             \n",
        "        if dir_down:\n",
        "            row += 1\n",
        "        else:\n",
        "            row -= 1\n",
        "    return(\"\".join(result))\n",
        " \n",
        "# Driver code\n",
        "if __name__ == \"__main__\":\n",
        "    print(\"===Encryption===\\n\")\n",
        "    print(encryptRailFence(\"syariful msth\", 2))\n",
        "    print(encryptRailFence(\"participates in\", 3))\n",
        "    print(encryptRailFence(\"hacktoberfest2022\", 3))\n",
        "    print(\"\\n\")     \n",
        "    print(\"===Decryption===\\n\")\n",
        "    print(decryptRailFence(\"saiu shyrflmt\", 2))\n",
        "    print(decryptRailFence(\"pia atcptsirien\", 3))\n",
        "    print(decryptRailFence(\"htrt2akoefs22cbe0\", 3))"
      ]
    }
  ]
}